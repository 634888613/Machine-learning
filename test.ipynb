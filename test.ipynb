{
 "cells": [
  {
   "cell_type": "markdown",
   "metadata": {},
   "source": [
    "### 一.模型结构\n",
    "线性回归算是回归任务中比较简单的一种模型，它的模型结构可以表示如下：   \n",
    "\n",
    "$$\n",
    "f(x)=w^Tx^*\n",
    "$$  \n",
    "这里$x^*=[x^T,1]^T$，$x\\in R^n$，所以$w\\in R^{n+1}$，$w$即是模型需要学习的参数，下面造一些伪数据进行演示："
   ]
  }
 ],
 "metadata": {
  "kernelspec": {
   "display_name": "Python 3",
   "language": "python",
   "name": "python3"
  },
  "language_info": {
   "codemirror_mode": {
    "name": "ipython",
    "version": 3
   },
   "file_extension": ".py",
   "mimetype": "text/x-python",
   "name": "python",
   "nbconvert_exporter": "python",
   "pygments_lexer": "ipython3",
   "version": "3.6.4"
  }
 },
 "nbformat": 4,
 "nbformat_minor": 2
}
