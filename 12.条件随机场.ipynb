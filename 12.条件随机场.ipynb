{
 "cells": [
  {
   "cell_type": "markdown",
   "metadata": {},
   "source": [
    "近似推断/精确推断，其中近似推断重的随即推断中最著名的即为MCMC"
   ]
  },
  {
   "cell_type": "markdown",
   "metadata": {},
   "source": [
    "### 一.CRF  \n",
     "软分类：概率生成模型p(x,y)，概率判别模型p(x|y)",
    "结合HMM与最大熵模型，得到MEMM模型（最大熵马尔可夫），其也是一个概率判别模型，打破了HMM观测独立假设，但依然存在标注偏差问题（局部归一化），因此在此基础上引出了CRF（条件随机场），使用全局归一化",
    "HMM到MEMM，HMM是一个生成模型，HMM：两个假设，一阶齐次，观测独立假设。MEMM打破观测独立假设",
    "MEMM到CRF，MEMM有标注偏差问题(Label Bias Problem)。观察齐次Markov假设。把y_t,y_{t+1}与x_t组成一个小系统，引出一个函数Mass score，由于是概率分布需要归一化->不观察观测值就可以根据条件概率分布解决decoding，通过将有向图转换为无向图打破马尔可夫性",
    "CRF为判别模型，关心P(Y|X)，首先先看一下MRF的因子分解（最大团），P(x)=1/z \\sum \\phi_i(x_{c_i}),势函数，通常为指数函数。F(y_{y-1},y_t,x_{1:T})=\\Delta_{y_t,x_{1:T}}+\\Delta_{y_{t-1},y_t,x_{1:T}},状态函数+转移函数",
    "\\Delta_{y_t,x_{1:T}}=\\sum\\lambda_k f_k(y_{t-1},y_t,x_{1:T})",
    "\\Delta_{y_{t-1},y_t,x_{1:T}}=\\sum \\ita_l g_l(y_t,x_{1:T})",
    "因此可以得到概率密度函数，然后对函数进行向量化，把\\sum符号去掉",
    "learning：学习参数,\\theta=argmax\\product P(y|x),",
    "\\hat{\\lambda}\\hat{\\ita}=argmax_{\\lambda,\\ita} \\product_1^N P(y_i|x_i),log转换，然后使用梯度上升找最大值，简化过程中，依然将连加符号分割进行简化",
    "Inference，marginal prob P(y_t|x);conditional prob;decoding MAP inference \\hat{y}=argmax P(y|x),寻找序列",
    "边际概率：通过简化连乘以及连加简化联合概率分布函数，公式推导类似于HMM，寻找递推公式，变量消除法-belief proporgation",
    "Decoding 问题，与HMM中的方法更加类似，动态规划"
   ]
  }
   ],
   "metadata": {
  "kernelspec": {
   "display_name": "Python 3",
   "language": "python",
   "name": "python3"
  },
  "language_info": {
   "codemirror_mode": {
    "name": "ipython",
    "version": 3
   },
   "file_extension": ".py",
   "mimetype": "text/x-python",
   "name": "python",
   "nbconvert_exporter": "python",
   "pygments_lexer": "ipython3",
   "version": "3.6.4"
  }
 },
 "nbformat": 4,
 "nbformat_minor": 2
}
