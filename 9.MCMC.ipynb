{
 "cells": [
  {
   "cell_type": "markdown",
   "metadata": {},
   "source": [
    "近似推断/精确推断，其中近似推断重的随即推断中最著名的即为MCMC"
   ]
  },
  {
   "cell_type": "markdown",
   "metadata": {},
   "source": [
    "### 一.Monte Carlo Method\n",
    "主要适用于基于采样的随机近似方法，推断的主要作用是计算后验概率，得到后验计算其期望是关键问题，后验往往使用数值方式进行模拟\n",
    "采样方法：\n"
    "概率分布采样，如果能计算出cdf，可以通过与[0,1]上的均匀分布关联可以进行随机采样，利用cdf的反函数回推，但是对于很多概率密度函数，pdf难以推导出cdf"
    "Adjection Sampling，假设一个q(z):proposed distribution，对于任意$Z_i$,$Mq(z)>=p(z)$，\\alpha：接收率，$\\alpha=\\frac{p(z^i)}{Mq(z^i)}$,$0<=\\alpha<=1$,z^i~q(z);u~U(0,1),如果u>=\\alpha，接受z^i，但是这个方法十分依赖q函数的选择"
    "重要性采样：不对p(z)进行采样，而是对其期望进行采样"
    "$E_{p(z)}[f(z)]=\\int p(z)f(z)dz=\\int \\frac{p(z)}{q(z)}q(z)f(z)dz=\\int f(z)\\frac{p(z)}{q(z)}q(z)dz=\\frac{1}{N} \\sum_{i=1}^N f(z_i)\\frac{p(z_i)}{q(z_i)}$,$z_i~q(z)$，weight $\\frac{p(z_i)}{q(z_i)}$,但是这个方法也依赖于q(z)的选择"
    "重要性采样的一个变种，Sampline-Importance-Resampling,两阶段的重要性采样，第一次采样可能不均匀，引入第二个阶段，以weight为概率值从第一次的采样中再次采样"
   ]
  },
  {
 "cells": [
  {
   "cell_type": "markdown",
   "metadata": {},
   "source": [
    "### 一.模型结构\n",
    "线性回归算是回归任务中比较简单的一种模型，它的模型结构可以表示如下：   \n",
    "\n",
    "$$\n",
    "f(x)=w^Tx^*\n",
    "$$  \n",
    "这里$x^*=[x^T,1]^T$，$x\\in R^n$，所以$w\\in R^{n+1}$，$w$即是模型需要学习的参数，下面造一些伪数据进行演示："
   ]
  },
